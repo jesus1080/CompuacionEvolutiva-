{
  "nbformat": 4,
  "nbformat_minor": 0,
  "metadata": {
    "colab": {
      "provenance": [],
      "include_colab_link": true
    },
    "kernelspec": {
      "name": "python3",
      "display_name": "Python 3"
    },
    "language_info": {
      "name": "python"
    }
  },
  "cells": [
    {
      "cell_type": "markdown",
      "metadata": {
        "id": "view-in-github",
        "colab_type": "text"
      },
      "source": [
        "<a href=\"https://colab.research.google.com/github/jesus1080/CompuacionEvolutiva-/blob/master/Circuitob%C3%A1sico.ipynb\" target=\"_parent\"><img src=\"https://colab.research.google.com/assets/colab-badge.svg\" alt=\"Open In Colab\"/></a>"
      ]
    },
    {
      "cell_type": "markdown",
      "source": [
        "Objetivo: obtner el circuito digital dependiendo de la tabla de verdad ingresada."
      ],
      "metadata": {
        "id": "f-Mx_jyRAyQs"
      }
    },
    {
      "cell_type": "code",
      "execution_count": null,
      "metadata": {
        "id": "GQ18Kd5F3uKe",
        "colab": {
          "base_uri": "https://localhost:8080/"
        },
        "outputId": "cdc27d00-0160-4c19-b23d-7645f478762e"
      },
      "outputs": [
        {
          "output_type": "stream",
          "name": "stdout",
          "text": [
            "Looking in indexes: https://pypi.org/simple, https://us-python.pkg.dev/colab-wheels/public/simple/\n",
            "Collecting deap\n",
            "  Downloading deap-1.3.3-cp39-cp39-manylinux_2_5_x86_64.manylinux1_x86_64.manylinux_2_17_x86_64.manylinux2014_x86_64.whl (139 kB)\n",
            "\u001b[2K     \u001b[90m━━━━━━━━━━━━━━━━━━━━━━━━━━━━━━━━━━━━━━━\u001b[0m \u001b[32m139.8/139.8 kB\u001b[0m \u001b[31m6.0 MB/s\u001b[0m eta \u001b[36m0:00:00\u001b[0m\n",
            "\u001b[?25hRequirement already satisfied: numpy in /usr/local/lib/python3.9/dist-packages (from deap) (1.22.4)\n",
            "Installing collected packages: deap\n",
            "Successfully installed deap-1.3.3\n"
          ]
        }
      ],
      "source": [
        "!pip install deap"
      ]
    },
    {
      "cell_type": "markdown",
      "source": [
        "Importación de librerias"
      ],
      "metadata": {
        "id": "EspjsLlB9QEQ"
      }
    },
    {
      "cell_type": "code",
      "execution_count": null,
      "metadata": {
        "id": "txhGyS1y8-8v"
      },
      "outputs": [],
      "source": [
        "import operator\n",
        "import math\n",
        "import random\n",
        "import numpy\n",
        "import itertools\n",
        "from deap import algorithms\n",
        "from deap import base\n",
        "from deap import creator\n",
        "from deap import tools\n",
        "from deap import gp\n",
        "from google.colab import files"
      ]
    },
    {
      "cell_type": "code",
      "source": [
        "from google.colab import drive\n",
        "drive.mount('/content/drive')"
      ],
      "metadata": {
        "colab": {
          "base_uri": "https://localhost:8080/"
        },
        "id": "XgDCgICbvxon",
        "outputId": "7b28c8b5-ddc9-4b19-c124-194caff5c8db"
      },
      "execution_count": null,
      "outputs": [
        {
          "output_type": "stream",
          "name": "stdout",
          "text": [
            "Mounted at /content/drive\n"
          ]
        }
      ]
    },
    {
      "cell_type": "code",
      "source": [
        "ruta = '/content/drive/MyDrive/DataSet/multiplexor.txt'\n",
        "# lee el archivo de texto\n",
        "\n",
        "matriz = []\n",
        "with open(ruta, 'r') as f:\n",
        "    for linea in f:\n",
        "        fila = [int(numero) for numero in linea.strip().split()]\n",
        "        matriz.append(fila)\n",
        "\n",
        "\n",
        "print(matriz)\n"
      ],
      "metadata": {
        "colab": {
          "base_uri": "https://localhost:8080/"
        },
        "id": "kuPR6uR7wBYg",
        "outputId": "dde8d192-8977-42c7-9c44-d5e8322a1013"
      },
      "execution_count": null,
      "outputs": [
        {
          "output_type": "stream",
          "name": "stdout",
          "text": [
            "[[0, 0, 0, 0, 0, 0, 0], [0, 0, 0, 0, 0, 1, 0], [0, 0, 0, 0, 1, 0, 0], [0, 0, 0, 0, 1, 1, 0], [0, 0, 0, 1, 0, 0, 0], [0, 0, 0, 1, 0, 1, 0], [0, 0, 0, 1, 1, 0, 0], [0, 0, 0, 1, 1, 1, 0], [0, 0, 1, 0, 0, 0, 1], [0, 0, 1, 0, 0, 1, 1], [0, 0, 1, 0, 1, 0, 1], [0, 0, 1, 0, 1, 1, 1], [0, 0, 1, 1, 0, 0, 1], [0, 0, 1, 1, 0, 1, 1], [0, 0, 1, 1, 1, 0, 1], [0, 0, 1, 1, 1, 1, 1], [0, 1, 0, 0, 0, 0, 0], [0, 1, 0, 0, 0, 1, 0], [0, 1, 0, 0, 1, 0, 0], [0, 1, 0, 0, 1, 1, 0], [0, 1, 0, 1, 0, 0, 1], [0, 1, 0, 1, 0, 1, 1], [0, 1, 0, 1, 1, 0, 1], [0, 1, 0, 1, 1, 1, 1], [0, 1, 1, 0, 0, 0, 0], [0, 1, 1, 0, 0, 1, 0], [0, 1, 1, 0, 1, 0, 0], [0, 1, 1, 0, 1, 1, 0], [0, 1, 1, 1, 0, 0, 1], [0, 1, 1, 1, 0, 1, 1], [0, 1, 1, 1, 1, 0, 1], [0, 1, 1, 1, 1, 1, 1], [1, 0, 0, 0, 0, 0, 0], [1, 0, 0, 0, 0, 1, 0], [1, 0, 0, 0, 1, 0, 1], [1, 0, 0, 0, 1, 1, 1], [1, 0, 0, 1, 0, 0, 0], [1, 0, 0, 1, 0, 1, 0], [1, 0, 0, 1, 1, 0, 1], [1, 0, 0, 1, 1, 1, 1], [1, 0, 1, 0, 0, 0, 0], [1, 0, 1, 0, 0, 1, 0], [1, 0, 1, 0, 1, 0, 1], [1, 0, 1, 0, 1, 1, 1], [1, 0, 1, 1, 0, 0, 0], [1, 0, 1, 1, 0, 1, 0], [1, 0, 1, 1, 1, 0, 1], [1, 0, 1, 1, 1, 1, 1], [1, 1, 0, 0, 0, 0, 0], [1, 1, 0, 0, 0, 1, 1], [1, 1, 0, 0, 1, 0, 0], [1, 1, 0, 0, 1, 1, 1], [1, 1, 0, 1, 0, 0, 0], [1, 1, 0, 1, 0, 1, 1], [1, 1, 0, 1, 1, 0, 0], [1, 1, 0, 1, 1, 1, 1], [1, 1, 1, 0, 0, 0, 0], [1, 1, 1, 0, 0, 1, 1], [1, 1, 1, 0, 1, 0, 0], [1, 1, 1, 0, 1, 1, 1], [1, 1, 1, 1, 0, 0, 0], [1, 1, 1, 1, 0, 1, 1], [1, 1, 1, 1, 1, 0, 0], [1, 1, 1, 1, 1, 1, 1]]\n"
          ]
        }
      ]
    },
    {
      "cell_type": "markdown",
      "source": [
        "Definir el conjunto\n",
        "de funciones f que se van a usar, para generar\n",
        "la expresión matemática o lógica que trata de\n",
        "satisfacer la muestra finita de datos."
      ],
      "metadata": {
        "id": "IPqW8bpa92nE"
      }
    },
    {
      "cell_type": "code",
      "source": [
        "pset = gp.PrimitiveSet(\"MAIN\",6)\n",
        "pset.addPrimitive(operator.and_, 2)\n",
        "pset.addPrimitive(operator.or_, 2)\n",
        "pset.addPrimitive(operator.not_,1)\n",
        "pset.addTerminal(1)\n",
        "pset.addTerminal(0)\n",
        "pset.renameArguments(ARG0=\"a\")\n",
        "pset.renameArguments(ARG1=\"b\")\n",
        "pset.renameArguments(ARG2=\"c\")\n",
        "pset.renameArguments(ARG3=\"d\")\n",
        "pset.renameArguments(ARG4=\"e\")\n",
        "pset.renameArguments(ARG5=\"f\")"
      ],
      "metadata": {
        "id": "8a4sGqTI9i7N"
      },
      "execution_count": null,
      "outputs": []
    },
    {
      "cell_type": "markdown",
      "source": [
        "Definir el conjunto de datos de prueba, para este  caso se define una tabla de verdad, muestra cómo responde la salida de un circuito lógico a las varias combinaciones en las entradas"
      ],
      "metadata": {
        "id": "uSBWTtRf-Gf6"
      }
    },
    {
      "cell_type": "code",
      "source": [
        "samples=numpy.array(matriz)"
      ],
      "metadata": {
        "id": "sOPmeLWo-CwC"
      },
      "execution_count": null,
      "outputs": []
    },
    {
      "cell_type": "markdown",
      "source": [
        "Se define la función de evaluación en este caso se utiliza error cuadrático medio\n",
        "https://citeseerx.ist.psu.edu/viewdoc/download?doi=10.1.1.3.1463&rep=rep1&type=pdf"
      ],
      "metadata": {
        "id": "rm2XLVK4BZZN"
      }
    },
    {
      "cell_type": "code",
      "source": [
        "def evalSymbReg(individual):\n",
        "    func = toolbox.compile(expr=individual)\n",
        "    eval=math.sqrt((numpy.sum([math.pow((func(*row[:6])-row[6]),2) for row in samples]))/len(samples))\n",
        "    return eval,\n"
      ],
      "metadata": {
        "id": "6d5om3YQ-hGY"
      },
      "execution_count": null,
      "outputs": []
    },
    {
      "cell_type": "markdown",
      "source": [
        "Definir hiperpárametros"
      ],
      "metadata": {
        "id": "IqDMWKyYAOiy"
      }
    },
    {
      "cell_type": "code",
      "source": [
        "creator.create(\"FitnessMin\", base.Fitness, weights=(-1.0,))\n",
        "creator.create(\"Individual\", gp.PrimitiveTree, fitness=creator.FitnessMin)\n",
        "\n",
        "toolbox = base.Toolbox()\n",
        "toolbox.register(\"expr\", gp.genHalfAndHalf, pset=pset, min_=1, max_=3)\n",
        "toolbox.register(\"individual\", tools.initIterate, creator.Individual, toolbox.expr)\n",
        "toolbox.register(\"population\", tools.initRepeat, list, toolbox.individual)\n",
        "toolbox.register(\"compile\", gp.compile, pset=pset)\n",
        "\n",
        "toolbox.register(\"evaluate\", evalSymbReg)\n",
        "toolbox.register(\"select\", tools.selTournament, tournsize=3)\n",
        "toolbox.register(\"mate\", gp.cxOnePoint)\n",
        "toolbox.register(\"expr_mut\", gp.genFull, min_=0, max_=3)\n",
        "toolbox.register('mutate', gp.mutUniform, expr=toolbox.expr_mut, pset=pset)"
      ],
      "metadata": {
        "id": "o8Aah7ebAHVG",
        "colab": {
          "base_uri": "https://localhost:8080/"
        },
        "outputId": "3b84034c-da06-4e53-f32d-3ff184a73a45"
      },
      "execution_count": null,
      "outputs": [
        {
          "output_type": "stream",
          "name": "stderr",
          "text": [
            "/usr/local/lib/python3.9/dist-packages/deap/creator.py:138: RuntimeWarning: A class named 'FitnessMin' has already been created and it will be overwritten. Consider deleting previous creation of that class or rename it.\n",
            "  warnings.warn(\"A class named '{0}' has already been created and it \"\n",
            "/usr/local/lib/python3.9/dist-packages/deap/creator.py:138: RuntimeWarning: A class named 'Individual' has already been created and it will be overwritten. Consider deleting previous creation of that class or rename it.\n",
            "  warnings.warn(\"A class named '{0}' has already been created and it \"\n"
          ]
        }
      ]
    },
    {
      "cell_type": "markdown",
      "source": [
        "Costruir el Algoritmo evolutivo (PG) y ejecutar"
      ],
      "metadata": {
        "id": "rALWWh6fAmzQ"
      }
    },
    {
      "cell_type": "code",
      "source": [
        "def main():\n",
        "    #random.seed(318)\n",
        "\n",
        "    pop = toolbox.population(n=50)\n",
        "    hof = tools.HallOfFame(1)\n",
        "    stats = tools.Statistics(lambda ind: ind.fitness.values)\n",
        "    stats.register(\"avg\", numpy.mean)\n",
        "    stats.register(\"std\", numpy.std)\n",
        "    stats.register(\"min\", numpy.min)\n",
        "    stats.register(\"max\", numpy.max)\n",
        "\n",
        "    algorithms.eaSimple(pop, toolbox, 0.5, 0.3, 100, stats, halloffame=hof)\n",
        "\n",
        "    return pop, stats, hof\n",
        "\n",
        "if __name__ == \"__main__\":\n",
        "    p,s,h=main()\n",
        "    sol=h[0]\n",
        "    print('mejor Solución encontrada',sol)\n",
        "    print('longitud',len(sol))\n",
        "    func = toolbox.compile(expr=sol)\n",
        "\n",
        "    test=[func(*row[:6]) for row in samples]\n",
        "    print(samples)\n",
        "    print(test)\n",
        "\n"
      ],
      "metadata": {
        "colab": {
          "base_uri": "https://localhost:8080/"
        },
        "id": "J8qGWsP4AhYE",
        "outputId": "cbbe7258-d34f-42b9-fc77-9d0002316662"
      },
      "execution_count": null,
      "outputs": [
        {
          "output_type": "stream",
          "name": "stdout",
          "text": [
            "gen\tnevals\tavg     \tstd      \tmin     \tmax     \n",
            "0  \t50    \t0.704312\t0.0675953\t0.586302\t0.829156\n",
            "1  \t32    \t0.659056\t0.0560789\t0.559017\t0.790569\n",
            "2  \t32    \t0.633664\t0.0533408\t0.559017\t0.790569\n",
            "3  \t30    \t0.623765\t0.0528458\t0.559017\t0.790569\n",
            "4  \t33    \t0.62031 \t0.0577978\t0.53033 \t0.790569\n",
            "5  \t29    \t0.586517\t0.0362053\t0.53033 \t0.707107\n",
            "6  \t34    \t0.584493\t0.042493 \t0.53033 \t0.707107\n",
            "7  \t33    \t0.571872\t0.0374135\t0.53033 \t0.707107\n",
            "8  \t35    \t0.564134\t0.0454461\t0.484123\t0.707107\n",
            "9  \t26    \t0.551504\t0.0422046\t0.484123\t0.707107\n",
            "10 \t32    \t0.543842\t0.0416619\t0.484123\t0.707107\n",
            "11 \t33    \t0.556692\t0.059428 \t0.484123\t0.707107\n",
            "12 \t32    \t0.542037\t0.052525 \t0.484123\t0.728869\n",
            "13 \t34    \t0.539945\t0.0588164\t0.484123\t0.790569\n",
            "14 \t37    \t0.533722\t0.0598158\t0.450694\t0.790569\n",
            "15 \t38    \t0.524996\t0.04335  \t0.450694\t0.637377\n",
            "16 \t33    \t0.520527\t0.0498928\t0.467707\t0.728869\n",
            "17 \t33    \t0.518201\t0.052127 \t0.395285\t0.684653\n",
            "18 \t31    \t0.520173\t0.0710297\t0.395285\t0.71807 \n",
            "19 \t30    \t0.485168\t0.049237 \t0.395285\t0.586302\n",
            "20 \t36    \t0.483302\t0.0573969\t0.395285\t0.661438\n",
            "21 \t29    \t0.491693\t0.0854429\t0.395285\t0.75    \n",
            "22 \t39    \t0.487002\t0.0791637\t0.395285\t0.790569\n",
            "23 \t39    \t0.480382\t0.0761295\t0.375   \t0.707107\n",
            "24 \t39    \t0.487468\t0.0876779\t0.375   \t0.75    \n",
            "25 \t35    \t0.487099\t0.093124 \t0.375   \t0.707107\n",
            "26 \t29    \t0.452358\t0.0688999\t0.375   \t0.707107\n",
            "27 \t34    \t0.447052\t0.0695102\t0.353553\t0.637377\n",
            "28 \t35    \t0.428393\t0.0765158\t0.353553\t0.707107\n",
            "29 \t25    \t0.4147  \t0.0743205\t0.353553\t0.790569\n",
            "30 \t26    \t0.412299\t0.0791149\t0.353553\t0.728869\n",
            "31 \t40    \t0.422922\t0.0652843\t0.353553\t0.612372\n",
            "32 \t25    \t0.410454\t0.0658797\t0.353553\t0.612372\n",
            "33 \t29    \t0.403418\t0.0814167\t0.353553\t0.637377\n",
            "34 \t41    \t0.414251\t0.0726016\t0.353553\t0.612372\n",
            "35 \t32    \t0.410801\t0.0706555\t0.353553\t0.612372\n",
            "36 \t34    \t0.406314\t0.0654535\t0.353553\t0.612372\n",
            "37 \t34    \t0.387153\t0.0511143\t0.353553\t0.572822\n",
            "38 \t31    \t0.386193\t0.0605577\t0.353553\t0.625   \n",
            "39 \t34    \t0.406972\t0.0810001\t0.330719\t0.637377\n",
            "40 \t30    \t0.392251\t0.0628615\t0.330719\t0.612372\n",
            "41 \t26    \t0.372512\t0.0498475\t0.330719\t0.559017\n",
            "42 \t33    \t0.366333\t0.0416817\t0.330719\t0.467707\n",
            "43 \t29    \t0.377919\t0.0749335\t0.306186\t0.707107\n",
            "44 \t28    \t0.361946\t0.0552978\t0.306186\t0.559017\n",
            "45 \t29    \t0.357097\t0.0727614\t0.306186\t0.707107\n",
            "46 \t29    \t0.346783\t0.0710925\t0.279508\t0.625   \n",
            "47 \t31    \t0.342671\t0.0592783\t0.279508\t0.586302\n",
            "48 \t35    \t0.347662\t0.0774994\t0.279508\t0.612372\n",
            "49 \t27    \t0.332008\t0.0508234\t0.279508\t0.5     \n",
            "50 \t37    \t0.347542\t0.0780356\t0.279508\t0.612372\n",
            "51 \t41    \t0.334946\t0.0901317\t0.216506\t0.625   \n",
            "52 \t30    \t0.30705 \t0.056749 \t0.216506\t0.559017\n",
            "53 \t35    \t0.319777\t0.0861992\t0.216506\t0.612372\n",
            "54 \t26    \t0.296168\t0.0620232\t0.216506\t0.53033 \n",
            "55 \t37    \t0.294117\t0.0591184\t0.216506\t0.467707\n",
            "56 \t30    \t0.294232\t0.0809483\t0.216506\t0.673146\n",
            "57 \t33    \t0.299566\t0.102823 \t0.216506\t0.673146\n",
            "58 \t31    \t0.276483\t0.0798089\t0.216506\t0.515388\n",
            "59 \t44    \t0.288607\t0.0818896\t0.216506\t0.559017\n",
            "60 \t37    \t0.289585\t0.0859675\t0.216506\t0.559017\n",
            "61 \t36    \t0.257852\t0.0955892\t0.216506\t0.637377\n",
            "62 \t27    \t0.267237\t0.0856409\t0.216506\t0.612372\n",
            "63 \t29    \t0.27357 \t0.112514 \t0.216506\t0.707107\n",
            "64 \t36    \t0.261206\t0.0743063\t0.216506\t0.5     \n",
            "65 \t24    \t0.240596\t0.0679227\t0.216506\t0.612372\n",
            "66 \t28    \t0.265867\t0.102785 \t0.216506\t0.707107\n",
            "67 \t44    \t0.264016\t0.0846791\t0.216506\t0.5     \n",
            "68 \t31    \t0.237262\t0.0658166\t0.216506\t0.612372\n",
            "69 \t39    \t0.241306\t0.0520482\t0.176777\t0.414578\n",
            "70 \t36    \t0.269132\t0.0887718\t0.176777\t0.559017\n",
            "71 \t30    \t0.246258\t0.0748806\t0.176777\t0.637377\n",
            "72 \t32    \t0.243142\t0.0703159\t0.176777\t0.559017\n",
            "73 \t32    \t0.248011\t0.086908 \t0.176777\t0.612372\n",
            "74 \t31    \t0.231609\t0.0889931\t0.176777\t0.728869\n",
            "75 \t31    \t0.223088\t0.0765308\t0.176777\t0.515388\n",
            "76 \t32    \t0.233538\t0.1218   \t0.176777\t0.707107\n",
            "77 \t30    \t0.211697\t0.0741401\t0.176777\t0.5     \n",
            "78 \t34    \t0.2261  \t0.0942268\t0.176777\t0.612372\n",
            "79 \t29    \t0.216818\t0.0858192\t0.176777\t0.53033 \n",
            "80 \t30    \t0.21323 \t0.0910109\t0.176777\t0.707107\n",
            "81 \t35    \t0.23031 \t0.0905951\t0.176777\t0.612372\n",
            "82 \t32    \t0.224379\t0.108818 \t0.176777\t0.612372\n",
            "83 \t40    \t0.228203\t0.0757365\t0.176777\t0.433013\n",
            "84 \t34    \t0.230372\t0.0793961\t0.176777\t0.450694\n",
            "85 \t37    \t0.222381\t0.0931228\t0.176777\t0.586302\n",
            "86 \t33    \t0.211561\t0.0723998\t0.176777\t0.53033 \n",
            "87 \t33    \t0.21667 \t0.0948234\t0.125   \t0.586302\n",
            "88 \t36    \t0.222668\t0.0889889\t0.125   \t0.559017\n",
            "89 \t31    \t0.239092\t0.143692 \t0.125   \t0.661438\n",
            "90 \t36    \t0.217581\t0.109698 \t0.125   \t0.612372\n",
            "91 \t35    \t0.196995\t0.0786954\t0.125   \t0.395285\n",
            "92 \t39    \t0.167564\t0.0793555\t0.125   \t0.467707\n",
            "93 \t33    \t0.184958\t0.105371 \t0.125   \t0.484123\n",
            "94 \t31    \t0.166611\t0.114796 \t0.125   \t0.790569\n",
            "95 \t29    \t0.144195\t0.0598571\t0.125   \t0.467707\n",
            "96 \t29    \t0.175332\t0.0929172\t0.125   \t0.467707\n",
            "97 \t37    \t0.168578\t0.0919595\t0.125   \t0.599479\n",
            "98 \t32    \t0.160677\t0.0836382\t0.125   \t0.395285\n",
            "99 \t34    \t0.15349 \t0.0762625\t0.125   \t0.5     \n",
            "100\t40    \t0.162854\t0.0868401\t0.125   \t0.5     \n",
            "mejor Solución encontrada or_(and_(or_(and_(and_(a, and_(not_(b), not_(and_(or_(e, e), and_(f, a))))), not_(and_(not_(not_(1)), and_(e, 0)))), or_(f, or_(0, and_(not_(or_(and_(or_(e, 1), or_(and_(not_(1), not_(a)), and_(not_(or_(e, 1)), and_(and_(1, not_(b)), e)))), a)), and_(or_(or_(1, d), and_(and_(1, not_(and_(or_(e, e), and_(f, a)))), d)), or_(c, b)))))), and_(or_(e, b), or_(d, or_(and_(f, and_(not_(or_(and_(b, d), c)), and_(not_(b), or_(c, b)))), a)))), and_(and_(not_(or_(and_(not_(and_(or_(e, d), and_(f, a))), or_(a, not_(not_(b)))), a)), and_(not_(b), or_(c, b))), c))\n",
            "longitud 123\n",
            "[[0 0 0 0 0 0 0]\n",
            " [0 0 0 0 0 1 0]\n",
            " [0 0 0 0 1 0 0]\n",
            " [0 0 0 0 1 1 0]\n",
            " [0 0 0 1 0 0 0]\n",
            " [0 0 0 1 0 1 0]\n",
            " [0 0 0 1 1 0 0]\n",
            " [0 0 0 1 1 1 0]\n",
            " [0 0 1 0 0 0 1]\n",
            " [0 0 1 0 0 1 1]\n",
            " [0 0 1 0 1 0 1]\n",
            " [0 0 1 0 1 1 1]\n",
            " [0 0 1 1 0 0 1]\n",
            " [0 0 1 1 0 1 1]\n",
            " [0 0 1 1 1 0 1]\n",
            " [0 0 1 1 1 1 1]\n",
            " [0 1 0 0 0 0 0]\n",
            " [0 1 0 0 0 1 0]\n",
            " [0 1 0 0 1 0 0]\n",
            " [0 1 0 0 1 1 0]\n",
            " [0 1 0 1 0 0 1]\n",
            " [0 1 0 1 0 1 1]\n",
            " [0 1 0 1 1 0 1]\n",
            " [0 1 0 1 1 1 1]\n",
            " [0 1 1 0 0 0 0]\n",
            " [0 1 1 0 0 1 0]\n",
            " [0 1 1 0 1 0 0]\n",
            " [0 1 1 0 1 1 0]\n",
            " [0 1 1 1 0 0 1]\n",
            " [0 1 1 1 0 1 1]\n",
            " [0 1 1 1 1 0 1]\n",
            " [0 1 1 1 1 1 1]\n",
            " [1 0 0 0 0 0 0]\n",
            " [1 0 0 0 0 1 0]\n",
            " [1 0 0 0 1 0 1]\n",
            " [1 0 0 0 1 1 1]\n",
            " [1 0 0 1 0 0 0]\n",
            " [1 0 0 1 0 1 0]\n",
            " [1 0 0 1 1 0 1]\n",
            " [1 0 0 1 1 1 1]\n",
            " [1 0 1 0 0 0 0]\n",
            " [1 0 1 0 0 1 0]\n",
            " [1 0 1 0 1 0 1]\n",
            " [1 0 1 0 1 1 1]\n",
            " [1 0 1 1 0 0 0]\n",
            " [1 0 1 1 0 1 0]\n",
            " [1 0 1 1 1 0 1]\n",
            " [1 0 1 1 1 1 1]\n",
            " [1 1 0 0 0 0 0]\n",
            " [1 1 0 0 0 1 1]\n",
            " [1 1 0 0 1 0 0]\n",
            " [1 1 0 0 1 1 1]\n",
            " [1 1 0 1 0 0 0]\n",
            " [1 1 0 1 0 1 1]\n",
            " [1 1 0 1 1 0 0]\n",
            " [1 1 0 1 1 1 1]\n",
            " [1 1 1 0 0 0 0]\n",
            " [1 1 1 0 0 1 1]\n",
            " [1 1 1 0 1 0 0]\n",
            " [1 1 1 0 1 1 1]\n",
            " [1 1 1 1 0 0 0]\n",
            " [1 1 1 1 0 1 1]\n",
            " [1 1 1 1 1 0 0]\n",
            " [1 1 1 1 1 1 1]]\n",
            "[0, 0, 0, 0, 0, 0, 0, 1, 1, 1, 1, 1, 1, 1, 1, 1, 0, 0, 0, 0, 1, 1, 1, 1, 0, 0, 0, 0, 1, 1, 1, 1, 0, 0, 1, 1, 0, 0, 1, 1, 0, 0, 1, 1, 0, 0, 1, 1, 0, 1, 0, 1, 0, 1, 0, 1, 0, 1, 0, 1, 0, 1, 0, 1]\n"
          ]
        }
      ]
    }
  ]
}