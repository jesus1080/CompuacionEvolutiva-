{
  "nbformat": 4,
  "nbformat_minor": 0,
  "metadata": {
    "colab": {
      "provenance": [],
      "include_colab_link": true
    },
    "kernelspec": {
      "name": "python3",
      "display_name": "Python 3"
    },
    "language_info": {
      "name": "python"
    }
  },
  "cells": [
    {
      "cell_type": "markdown",
      "metadata": {
        "id": "view-in-github",
        "colab_type": "text"
      },
      "source": [
        "<a href=\"https://colab.research.google.com/github/jesus1080/CompuacionEvolutiva-/blob/master/12Vuelos3PistasCTrafico.ipynb\" target=\"_parent\"><img src=\"https://colab.research.google.com/assets/colab-badge.svg\" alt=\"Open In Colab\"/></a>"
      ]
    },
    {
      "cell_type": "markdown",
      "source": [
        "CONTROL DE TRÁFICO AEREO\n",
        "Asignacion de vuelos a pistas, teniendo en cuenta tiempos de retraso, tipos de avion, objetivo minimizar el tiempo para la asignaciond de los vuelos en las pistas disponibles.  "
      ],
      "metadata": {
        "id": "da-GYRtdS1fz"
      }
    },
    {
      "cell_type": "code",
      "source": [
        "!pip install deap"
      ],
      "metadata": {
        "colab": {
          "base_uri": "https://localhost:8080/"
        },
        "id": "lTf4NTX2TPze",
        "outputId": "30d73db1-92b6-4b05-8459-dae847073715"
      },
      "execution_count": null,
      "outputs": [
        {
          "output_type": "stream",
          "name": "stdout",
          "text": [
            "Looking in indexes: https://pypi.org/simple, https://us-python.pkg.dev/colab-wheels/public/simple/\n",
            "Collecting deap\n",
            "  Downloading deap-1.3.3-cp310-cp310-manylinux_2_5_x86_64.manylinux1_x86_64.manylinux_2_17_x86_64.manylinux2014_x86_64.whl (139 kB)\n",
            "\u001b[2K     \u001b[90m━━━━━━━━━━━━━━━━━━━━━━━━━━━━━━━━━━━━━━\u001b[0m \u001b[32m139.9/139.9 kB\u001b[0m \u001b[31m13.2 MB/s\u001b[0m eta \u001b[36m0:00:00\u001b[0m\n",
            "\u001b[?25hRequirement already satisfied: numpy in /usr/local/lib/python3.10/dist-packages (from deap) (1.22.4)\n",
            "Installing collected packages: deap\n",
            "Successfully installed deap-1.3.3\n"
          ]
        }
      ]
    },
    {
      "cell_type": "code",
      "execution_count": null,
      "metadata": {
        "id": "KTXw6B9BRwAb"
      },
      "outputs": [],
      "source": [
        "import random\n",
        "import array\n",
        "import numpy\n",
        "\n",
        "from deap import algorithms\n",
        "from deap import base\n",
        "from deap import creator\n",
        "from deap import tools\n",
        "import numpy as np\n"
      ]
    },
    {
      "cell_type": "code",
      "source": [
        "def initind(icls):\n",
        "  individuo = np.array([\n",
        "    np.random.choice(range(1, 13), size=12, replace=False),\n",
        "    np.random.randint(1, 4, size=12)\n",
        "  ])\n",
        "  return icls(individuo)"
      ],
      "metadata": {
        "id": "IHqaBEGOIgtm"
      },
      "execution_count": null,
      "outputs": []
    },
    {
      "cell_type": "code",
      "source": [
        "def init2d(icls, num_flights, num_runways):\n",
        "\n",
        "    flights = np.random.randint(1, 11, size=(num_flights,))\n",
        "    runways = np.random.randint(1, 11, size=(num_runways,))\n",
        "    return icls([flights, runways])"
      ],
      "metadata": {
        "id": "MQI4KWInGdHo"
      },
      "execution_count": null,
      "outputs": []
    },
    {
      "cell_type": "code",
      "source": [
        "creator.create(\"FitnessMin\", base.Fitness, weights=(-1.0,))\n",
        "creator.create(\"Individual\", np.ndarray, typecode=\"I\", fitness=creator.FitnessMin, strategy=None)"
      ],
      "metadata": {
        "id": "fVzAkBarTX5I"
      },
      "execution_count": null,
      "outputs": []
    },
    {
      "cell_type": "code",
      "source": [
        "def separacionAux(pista,vuelo,vuelos):\n",
        "      tv = ['w','g','w','w','p','w','g','w','w','p','w','g']\n",
        "      dicsep = {'ww': 1, 'wg': 1.5, 'wp': 2, 'gw': 1, 'gg': 1.5, 'gp': 1.5, 'pw': 1, 'pg': 1, 'pp':1}\n",
        "      pos = pista.index(vuelo)\n",
        "      if pos == 0:\n",
        "        return 0\n",
        "      else:\n",
        "        vueloant = pista[pos-1]\n",
        "        posvuelo = np.where(vuelos == vuelo)\n",
        "        posvueloant = np.where(vuelos == vueloant)\n",
        "        t1 = tv[posvuelo[0][0]]\n",
        "        t2 = tv[posvueloant[0][0]]\n",
        "        return  dicsep.get(t1+t2)"
      ],
      "metadata": {
        "id": "468BUUIF7obV"
      },
      "execution_count": null,
      "outputs": []
    },
    {
      "cell_type": "code",
      "source": [
        "def separacion(p1,p2,p3,vuelo,vuelos):\n",
        "  if vuelo in p1:\n",
        "      return separacionAux(p1,vuelo,vuelos)\n",
        "  elif vuelo in p2:\n",
        "    return separacionAux(p2,vuelo,vuelos)\n",
        "  elif vuelo in p3:\n",
        "    return separacionAux(p3,vuelo,vuelos)"
      ],
      "metadata": {
        "id": "agOBA7NtCwSX"
      },
      "execution_count": null,
      "outputs": []
    },
    {
      "cell_type": "code",
      "source": [
        "def evalOneMax(ind):\n",
        "    mtel = np.array([[11,15,6,6,9,7,15,6,6,9,7,9],[10,17,7,7,12,6,17,7,7,12,6,7],[9,19,8,8,15,5,19,8,8,15,5,5]])\n",
        "    vuelos = ind[0, :12]\n",
        "    pistas = ind[1, :12]\n",
        "    p1 = []\n",
        "    p2 = []\n",
        "    p3 = []\n",
        "    tels = []\n",
        "    tlas = []\n",
        "    tres = []\n",
        "    for i in range(12):\n",
        "      if(pistas[i]==2):\n",
        "        p2.append(vuelos[i])\n",
        "      elif pistas[i]==1:\n",
        "        p1.append(vuelos[i])\n",
        "      elif pistas[i]==3:\n",
        "        p1.append(vuelos[i])\n",
        "      tels.append(mtel[pistas[i]-1][vuelos[i]-1])\n",
        "\n",
        "    for i in range(12):\n",
        "      tlas.append(tels[i]+separacion(p1,p2,p1,vuelos[i],vuelos))\n",
        "\n",
        "    for i in range(12):\n",
        "      vuelop = vuelos[i] - 1\n",
        "      minimo = np.min(mtel[:, vuelop])\n",
        "      tres.append(tlas[i] - minimo)\n",
        "\n",
        "    suma = sum(x**2 for x in tres)\n",
        "    return suma,"
      ],
      "metadata": {
        "id": "fdfo1SNtR--H"
      },
      "execution_count": null,
      "outputs": []
    },
    {
      "cell_type": "code",
      "source": [
        "def cxTwoPointCopy(icls,ind1,ind2):\n",
        "\n",
        "      #cabeza11 = ind1[0, :2]\n",
        "      #cabeza12 = ind1[0, 2:]\n",
        "      cola11 = ind1[1, :6]\n",
        "      cola12 = ind1[1, 6:]\n",
        "\n",
        "      #cabeza21 = ind2[0, :2]\n",
        "      #cabeza22 = ind2[0, 2:]\n",
        "      cola21 = ind2[1, :6]\n",
        "      cola22 = ind2[1, 6:]\n",
        "\n",
        "      arrCo = np.concatenate((cola11, cola21))\n",
        "      arrayCo = np.concatenate((cola12, cola22))\n",
        "\n",
        "\n",
        "      ind1 = icls(np.vstack((ind1[0],arrCo)))\n",
        "      ind2 = icls(np.vstack((ind2[0],arrayCo)))\n",
        "\n",
        "      return ind1, ind2\n",
        "\n",
        "\n"
      ],
      "metadata": {
        "id": "nrjJjUS0SB8Z"
      },
      "execution_count": null,
      "outputs": []
    },
    {
      "cell_type": "code",
      "source": [
        "def mutar(ind):\n",
        "\n",
        "    index1 = random.randint(0, 11)\n",
        "    index2 = random.randint(0, 11)\n",
        "\n",
        "    # intercambio\n",
        "    ind[0][index1], ind[0][index2] = ind[0][index2], ind[0][index1]\n",
        "    ind[1][index1], ind[1][index2] = ind[1][index2], ind[1][index1]\n",
        "\n",
        "    return ind,"
      ],
      "metadata": {
        "id": "cOTvyNCWP82g"
      },
      "execution_count": null,
      "outputs": []
    },
    {
      "cell_type": "code",
      "source": [
        "toolbox = base.Toolbox()\n",
        "toolbox.register(\"individual\", initind,creator.Individual )\n",
        "toolbox.register(\"population\", tools.initRepeat, list, toolbox.individual)\n",
        "toolbox.register(\"evaluate\", evalOneMax)\n",
        "toolbox.register(\"mate\", cxTwoPointCopy,creator.Individual)\n",
        "toolbox.register(\"mutate\", mutar)\n",
        "toolbox.register(\"select\", tools.selTournament, tournsize=3)"
      ],
      "metadata": {
        "id": "b5o8GV6WS8TP"
      },
      "execution_count": null,
      "outputs": []
    },
    {
      "cell_type": "code",
      "source": [
        "def main():\n",
        "    random.seed(64)\n",
        "\n",
        "    pop = toolbox.population(n=300)\n",
        "\n",
        "    # Numpy equality function (operators.eq) between two arrays returns the\n",
        "    # equality element wise, which raises an exception in the if similar()\n",
        "    # check of the hall of fame. Using a different equality function like\n",
        "    # numpy.array_equal or numpy.allclose solve this issue.\n",
        "    hof = tools.HallOfFame(1,similar=numpy.array_equal)\n",
        "\n",
        "    stats = tools.Statistics(lambda ind: ind.fitness.values)\n",
        "    stats.register(\"avg\", numpy.mean)\n",
        "    stats.register(\"std\", numpy.std)\n",
        "    stats.register(\"min\", numpy.min)\n",
        "    stats.register(\"max\", numpy.max)\n",
        "\n",
        "    algorithms.eaSimple(pop, toolbox, cxpb=0.5, mutpb=0.2, ngen=20, stats=stats,\n",
        "                      halloffame=hof)\n",
        "\n",
        "    return pop, stats, hof"
      ],
      "metadata": {
        "id": "2-L6CcGUSHq0"
      },
      "execution_count": null,
      "outputs": []
    },
    {
      "cell_type": "code",
      "source": [
        "if __name__ == \"__main__\":\n",
        "    p,s,h=main()\n",
        "    print(h[0])"
      ],
      "metadata": {
        "id": "TSQK4rIYSQ3D",
        "colab": {
          "base_uri": "https://localhost:8080/"
        },
        "outputId": "61b351ae-23a5-440b-96b0-274bc6406423"
      },
      "execution_count": null,
      "outputs": [
        {
          "output_type": "stream",
          "name": "stdout",
          "text": [
            "gen\tnevals\tavg    \tstd    \tmin \tmax  \n",
            "0  \t300   \t118.035\t36.2313\t43.5\t236.5\n",
            "1  \t169   \t92.6458\t28.615 \t30.75\t185.75\n",
            "2  \t148   \t76.2925\t24.704 \t30.75\t161.5 \n",
            "3  \t169   \t66.7925\t22.6028\t28.75\t154.25\n",
            "4  \t195   \t62.195 \t22.5005\t23.5 \t165.5 \n",
            "5  \t170   \t59.7517\t24.9403\t19.5 \t157   \n",
            "6  \t183   \t54.3675\t26.2551\t19.5 \t159.75\n",
            "7  \t195   \t54.8342\t29.2142\t19.5 \t168.5 \n",
            "8  \t178   \t49.2117\t27.2929\t18.25\t149.5 \n",
            "9  \t177   \t45.3542\t28.9181\t16.5 \t149.25\n",
            "10 \t192   \t42.7583\t27.057 \t16.5 \t152.75\n",
            "11 \t188   \t46.0217\t30.9895\t16.5 \t192.5 \n",
            "12 \t178   \t43.6425\t28.2987\t16.5 \t141.5 \n",
            "13 \t172   \t46.3525\t30.3959\t16.5 \t141.5 \n",
            "14 \t194   \t45.9075\t29.8879\t16.5 \t156.5 \n",
            "15 \t192   \t48.6233\t30.6898\t16.5 \t135.5 \n",
            "16 \t162   \t41.1325\t26.6674\t16.5 \t138.5 \n",
            "17 \t196   \t45.3967\t30.5922\t16.5 \t136.5 \n",
            "18 \t192   \t46.5442\t30.6672\t16.5 \t148.5 \n",
            "19 \t168   \t41.9325\t30.066 \t16.5 \t136.5 \n",
            "20 \t198   \t45.86  \t31.1553\t16.5 \t148.5 \n",
            "[[ 8 10  7 12 11  3  2  5  9  4  6  1]\n",
            " [ 1  1  1  3  2  1  1  1  1  2  3  3]]\n"
          ]
        }
      ]
    }
  ]
}