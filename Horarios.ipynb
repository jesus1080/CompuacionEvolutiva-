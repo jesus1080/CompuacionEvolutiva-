{
  "nbformat": 4,
  "nbformat_minor": 0,
  "metadata": {
    "colab": {
      "provenance": [],
      "gpuType": "T4",
      "include_colab_link": true
    },
    "kernelspec": {
      "name": "python3",
      "display_name": "Python 3"
    },
    "language_info": {
      "name": "python"
    }
  },
  "cells": [
    {
      "cell_type": "markdown",
      "metadata": {
        "id": "view-in-github",
        "colab_type": "text"
      },
      "source": [
        "<a href=\"https://colab.research.google.com/github/jesus1080/CompuacionEvolutiva-/blob/master/Horarios.ipynb\" target=\"_parent\"><img src=\"https://colab.research.google.com/assets/colab-badge.svg\" alt=\"Open In Colab\"/></a>"
      ]
    },
    {
      "cell_type": "code",
      "execution_count": null,
      "metadata": {
        "colab": {
          "base_uri": "https://localhost:8080/"
        },
        "id": "Bzft8F52qtKX",
        "outputId": "7932358c-868d-4e14-e24d-604a55ac9170"
      },
      "outputs": [
        {
          "output_type": "stream",
          "name": "stdout",
          "text": [
            "Requirement already satisfied: deap in /usr/local/lib/python3.10/dist-packages (1.3.3)\n",
            "Requirement already satisfied: numpy in /usr/local/lib/python3.10/dist-packages (from deap) (1.22.4)\n"
          ]
        }
      ],
      "source": [
        "!pip install deap"
      ]
    },
    {
      "cell_type": "code",
      "source": [
        "from deap import algorithms\n",
        "from deap import base\n",
        "from deap import creator\n",
        "from deap import tools\n",
        "from google.colab import drive\n",
        "import random\n",
        "import numpy\n",
        "import numpy as np\n",
        "import pandas as pd\n",
        "\n",
        "\n",
        "#Proyecto construccion de horarios de clase usando algoritmos evolutivos\n",
        "#se tienen en cuenta 101 materias y 16 salones disponibles entre laboratorios y salones de teoria\n",
        "#las materias de teoria pueden tener de 4 a 6 horas a la semana y los laboratorios 2 horas a la semana\n",
        "\n"
      ],
      "metadata": {
        "id": "ZuNphVdGq6o4"
      },
      "execution_count": null,
      "outputs": []
    },
    {
      "cell_type": "code",
      "source": [
        "drive.mount('/content/drive')\n",
        "# Ruta al archivo Excel en Google Drive\n",
        "excel_file_path = '/content/drive/MyDrive/evolutivos/PIS_ASIGNATURAS.xlsx'\n",
        "# archivo Excel en un DataFrame de pandas\n",
        "df = pd.read_excel(excel_file_path)\n",
        "df.index = range(1, len(df) + 1)"
      ],
      "metadata": {
        "colab": {
          "base_uri": "https://localhost:8080/"
        },
        "id": "QuPbt8CIOR7-",
        "outputId": "a4a721c9-7fff-4631-ad0b-87283918f79d"
      },
      "execution_count": null,
      "outputs": [
        {
          "output_type": "stream",
          "name": "stdout",
          "text": [
            "Drive already mounted at /content/drive; to attempt to forcibly remount, call drive.mount(\"/content/drive\", force_remount=True).\n"
          ]
        }
      ]
    },
    {
      "cell_type": "code",
      "source": [
        "#leer materias, profesores y salones\n",
        "\n",
        "#crear individuo\n",
        "def initIndividual(icls):\n",
        "\n",
        "    # Crear la lista de materias con nombre y grupo según las repeticiones\n",
        "    lista_materias = [[materia, grupo] for materia, grupo, horario in zip(df['NOMBRE'], df['GRUPO'], df['HORARIO']) for _ in range(horario//2)]\n",
        "\n",
        "\n",
        "    # Obtener las posiciones de coincidencia en el DataFrame\n",
        "    # Crear el vector de posiciones\n",
        "    vector_posiciones = []\n",
        "    for materia_grupo in lista_materias:\n",
        "        posiciones = np.where((df['NOMBRE'] == materia_grupo[0]) & (df['GRUPO'] == materia_grupo[1]))[0]\n",
        "        vector_posiciones.extend(posiciones + 1)\n",
        "\n",
        "    dias = 5\n",
        "    franjas = 5\n",
        "    salones = 16\n",
        "    horario = np.zeros((dias,franjas,salones))\n",
        "\n",
        "    vector_horario = np.ravel(horario)\n",
        "\n",
        "    # Generar índices aleatorios\n",
        "    indices_aleatorios = np.random.choice(len(vector_horario), len(vector_posiciones), replace=False)\n",
        "    vector_horario[indices_aleatorios] = vector_posiciones\n",
        "    horario_reshape = np.reshape(vector_horario, (dias, franjas, salones))\n",
        "\n",
        "    return icls(horario_reshape)"
      ],
      "metadata": {
        "id": "RpTCWoBBq9MX"
      },
      "execution_count": null,
      "outputs": []
    },
    {
      "cell_type": "code",
      "source": [
        "creator.create(\"FitnessMin\", base.Fitness, weights=(1.0,))\n",
        "creator.create(\"Individual\", np.ndarray, typecode=\"I\", fitness=creator.FitnessMin, strategy=None)"
      ],
      "metadata": {
        "id": "eMApjsxV1RW2",
        "colab": {
          "base_uri": "https://localhost:8080/"
        },
        "outputId": "44935816-dc11-4ccb-b465-39c353f3a835"
      },
      "execution_count": null,
      "outputs": [
        {
          "output_type": "stream",
          "name": "stderr",
          "text": [
            "/usr/local/lib/python3.10/dist-packages/deap/creator.py:138: RuntimeWarning: A class named 'FitnessMin' has already been created and it will be overwritten. Consider deleting previous creation of that class or rename it.\n",
            "  warnings.warn(\"A class named '{0}' has already been created and it \"\n",
            "/usr/local/lib/python3.10/dist-packages/deap/creator.py:138: RuntimeWarning: A class named 'Individual' has already been created and it will be overwritten. Consider deleting previous creation of that class or rename it.\n",
            "  warnings.warn(\"A class named '{0}' has already been created and it \"\n"
          ]
        }
      ]
    },
    {
      "cell_type": "code",
      "source": [
        "#verifica que en cada franja no se repitan materias del mismo semestre\n",
        "def semfranja(ind):\n",
        "    semestres = []\n",
        "    sum = 0\n",
        "    for dia in ind:\n",
        "      for franja in dia:\n",
        "        semestres = []\n",
        "        for materia in franja:\n",
        "          if materia != 0:\n",
        "            semestre = df.loc[materia, 'SEMESTRE']\n",
        "            semestres.append(semestre)\n",
        "        conjunto = set(semestres)\n",
        "        if len(conjunto) == len(semestres):\n",
        "          sum += 1\n",
        "        else:\n",
        "          sum += 0\n",
        "    return sum"
      ],
      "metadata": {
        "id": "FgO5f9C6cZu_"
      },
      "execution_count": null,
      "outputs": []
    },
    {
      "cell_type": "code",
      "source": [
        "#verifica que en cada franja no se repita el profesor\n",
        "def profesorenfranja(ind):\n",
        "    profesores = []\n",
        "    sum = 0\n",
        "\n",
        "    for dia in ind:\n",
        "      for franja in dia:\n",
        "        profesores = []\n",
        "        for materia in franja:\n",
        "          if materia != 0:\n",
        "            profesor = df.loc[materia, 'PROFESOR']\n",
        "            profesores.append(profesor)\n",
        "        conjunto = set(profesores)\n",
        "        if len(conjunto) == len(profesores):\n",
        "          sum += 1\n",
        "        else:\n",
        "          sum += 0\n",
        "    return sum"
      ],
      "metadata": {
        "id": "xFLq81KRfEbO"
      },
      "execution_count": null,
      "outputs": []
    },
    {
      "cell_type": "code",
      "source": [
        "def evalOneMax(ind):\n",
        "    sum = 0\n",
        "    num = np.setdiff1d(np.arange(1, 102), ind)\n",
        "    #penalisa si al horario le faltan materias\n",
        "    if(num.shape[0] > 0):\n",
        "      sum += -10\n",
        "    for materia in np.nditer(ind):\n",
        "      if materia != 0:\n",
        "          tipo = df.loc[materia, 'TIPO']\n",
        "          repsem = np.count_nonzero(ind == materia)\n",
        "          coordenadas = np.argwhere(ind == materia)\n",
        "          if tipo == 'L':\n",
        "            if coordenadas[0][2] > 11 and repsem == 1:\n",
        "              sum += 1\n",
        "          else:\n",
        "            if coordenadas[0][2] <= 11 and coordenadas[0][2] >= 0 and repsem == 2:\n",
        "              sum += 1\n",
        "\n",
        "    sum += semfranja(ind)\n",
        "    sum += profesorenfranja(ind)\n",
        "\n",
        "    return sum,"
      ],
      "metadata": {
        "id": "kHIDGoyD1j4P"
      },
      "execution_count": null,
      "outputs": []
    },
    {
      "cell_type": "code",
      "source": [
        "def ajusteCruce(horarioHijo):\n",
        "  num = np.setdiff1d(np.arange(1, 102), horarioHijo)\n",
        "  indices = np.argwhere(horarioHijo == 0)\n",
        "  if num.shape[0] > 0 :\n",
        "    for i in num:\n",
        "      rand = np.random.choice(indices.shape[0])\n",
        "      indi = indices[rand]\n",
        "      horarioHijo[indi[0]][indi[1]][indi[2]] = i\n",
        "      indices = np.delete(indices, rand, axis=0)\n",
        "\n",
        "  vector_horario = horarioHijo.reshape(-1)\n",
        "\n",
        "  for i, row in df.iterrows():\n",
        "      numero = i\n",
        "      numero = np.int64(numero)\n",
        "      apariciones = row['HORARIO']\n",
        "      apariciones = apariciones // 2\n",
        "\n",
        "      indices = np.where(vector_horario == numero)[0]\n",
        "\n",
        "      if len(indices) > apariciones:\n",
        "          excedentes = len(indices) - apariciones\n",
        "          excedentes_indices = np.random.choice(indices, size=excedentes, replace=False)\n",
        "          vector_horario[excedentes_indices] = 0\n",
        "\n",
        "      elif len(indices) < apariciones:\n",
        "          faltantes = apariciones - len(indices)\n",
        "          disponibles_indices = np.where(vector_horario == 0)[0]\n",
        "\n",
        "          if len(disponibles_indices) < faltantes:\n",
        "              disponibles_indices = np.where(vector_horario != numero)[0]\n",
        "\n",
        "          faltantes_indices = np.random.choice(disponibles_indices, size=faltantes, replace=False)\n",
        "          vector_horario[faltantes_indices] = numero\n",
        "\n",
        "  vector_horario = vector_horario.reshape(5,5,16)\n",
        "  return vector_horario\n",
        "\n",
        "\n",
        "\n"
      ],
      "metadata": {
        "id": "901kb0aohDl9"
      },
      "execution_count": null,
      "outputs": []
    },
    {
      "cell_type": "code",
      "source": [
        "def cxTwoPointCopy(icls,ind1,ind2):\n",
        "  cab1 = ind1[:3]\n",
        "  col1 = ind1[3:5]\n",
        "  cab2 = ind2[:3]\n",
        "  col2 = ind2[3:5]\n",
        "\n",
        "  h1 = np.concatenate((cab1, col2))\n",
        "  h2 = np.concatenate((cab2, col1))\n",
        "\n",
        "  h1 = icls(ajusteCruce(h1))\n",
        "  h2 = icls(ajusteCruce(h2))\n",
        "\n",
        "  return h1, h2"
      ],
      "metadata": {
        "id": "yqDsUxRH17dw"
      },
      "execution_count": null,
      "outputs": []
    },
    {
      "cell_type": "code",
      "source": [],
      "metadata": {
        "id": "4qdWVNjAhCAt"
      },
      "execution_count": null,
      "outputs": []
    },
    {
      "cell_type": "code",
      "source": [
        "def mutar(icls,ind):\n",
        "\n",
        "  ind = np.array(ind)\n",
        "  vec = ind.ravel()\n",
        "  num = 35\n",
        "  tam = 399\n",
        "  indices = np.array([])\n",
        "  while num != 0:\n",
        "    index1 = random.randint(0, tam)\n",
        "    index2 = random.randint(0, tam)\n",
        "    indices = np.append(indices, index1)\n",
        "    indices = np.append(indices, index2)\n",
        "    while index1 == index2 and index1 in indices and index2 in indices:\n",
        "        index1 = random.randint(0, tam)\n",
        "        index2 = random.randint(0, tam)\n",
        "    tem = np.copy(vec[index1])\n",
        "    vec[index1] = vec[index2]\n",
        "    vec[index2] = tem\n",
        "    num += -1\n",
        "\n",
        "  ind = vec.reshape(5,5,16)\n",
        "  ind = icls(ajusteCruce(ind))\n",
        "\n",
        "  return ind,"
      ],
      "metadata": {
        "id": "WPf48ISp2HOQ"
      },
      "execution_count": null,
      "outputs": []
    },
    {
      "cell_type": "code",
      "source": [
        "toolbox = base.Toolbox()\n",
        "toolbox.register(\"individual\", initIndividual,creator.Individual )\n",
        "toolbox.register(\"population\", tools.initRepeat, list, toolbox.individual)\n",
        "toolbox.register(\"evaluate\", evalOneMax)\n",
        "toolbox.register(\"mate\", cxTwoPointCopy,creator.Individual)\n",
        "toolbox.register(\"mutate\", mutar,creator.Individual)\n",
        "toolbox.register(\"select\", tools.selTournament, tournsize=3)"
      ],
      "metadata": {
        "id": "jgnlOb5b2SYx"
      },
      "execution_count": null,
      "outputs": []
    },
    {
      "cell_type": "code",
      "source": [
        "def main():\n",
        "    random.seed(64)\n",
        "\n",
        "    pop = toolbox.population(n=300)\n",
        "\n",
        "    # Numpy equality function (operators.eq) between two arrays returns the\n",
        "    # equality element wise, which raises an exception in the if similar()\n",
        "    # check of the hall of fame. Using a different equality function like\n",
        "    # numpy.array_equal or numpy.allclose solve this issue.\n",
        "    hof = tools.HallOfFame(1,similar=numpy.array_equal)\n",
        "\n",
        "    stats = tools.Statistics(lambda ind: ind.fitness.values)\n",
        "    stats.register(\"avg\", numpy.mean)\n",
        "    stats.register(\"std\", numpy.std)\n",
        "    stats.register(\"min\", numpy.min)\n",
        "    stats.register(\"max\", numpy.max)\n",
        "\n",
        "    algorithms.eaSimple(pop, toolbox, cxpb=0.5, mutpb=0.3, ngen=100, stats=stats,\n",
        "                      halloffame=hof)\n",
        "\n",
        "    return pop, stats, hof"
      ],
      "metadata": {
        "id": "huNZpz_12egK"
      },
      "execution_count": null,
      "outputs": []
    },
    {
      "cell_type": "code",
      "source": [
        "if __name__ == \"__main__\":\n",
        "    p,s,h=main()\n",
        "    print(h[0])"
      ],
      "metadata": {
        "colab": {
          "base_uri": "https://localhost:8080/"
        },
        "id": "JBYWmT092yHC",
        "outputId": "29ba8287-0ffd-448d-bc8e-1658fc528f34"
      },
      "execution_count": null,
      "outputs": [
        {
          "output_type": "stream",
          "name": "stdout",
          "text": [
            "gen\tnevals\tavg    \tstd   \tmin\tmax\n",
            "0  \t300   \t117.477\t7.4451\t96 \t134\n",
            "1  \t197   \t122.85 \t5.83502\t101\t141\n",
            "2  \t194   \t125.707\t5.34982\t105\t138\n",
            "3  \t204   \t128.153\t5.21375\t114\t143\n",
            "4  \t189   \t130.2  \t5.21089\t116\t143\n",
            "5  \t211   \t130.957\t5.93308\t107\t147\n",
            "6  \t179   \t133.187\t5.45513\t117\t149\n",
            "7  \t205   \t134.387\t6.06222\t115\t149\n",
            "8  \t209   \t136.063\t5.91039\t120\t149\n",
            "9  \t207   \t137.477\t6.03292\t117\t152\n",
            "10 \t201   \t138.7  \t6.20833\t113\t153\n",
            "11 \t176   \t140.367\t5.88038\t122\t153\n",
            "12 \t195   \t141.63 \t5.22492\t126\t152\n",
            "13 \t198   \t141.94 \t5.44332\t123\t157\n",
            "14 \t194   \t142.643\t5.70638\t125\t157\n",
            "15 \t186   \t143.603\t5.61243\t121\t157\n",
            "16 \t191   \t144.73 \t5.38985\t123\t157\n",
            "17 \t191   \t145.377\t5.49073\t130\t157\n",
            "18 \t215   \t145.503\t5.54406\t127\t157\n",
            "19 \t187   \t146.473\t5.77546\t129\t157\n",
            "20 \t201   \t147.163\t5.61338\t130\t159\n",
            "21 \t176   \t147.863\t5.30515\t127\t159\n",
            "22 \t197   \t148.54 \t5.35117\t132\t159\n",
            "23 \t195   \t148.977\t5.57639\t123\t159\n",
            "24 \t213   \t149.52 \t5.2386 \t133\t160\n",
            "25 \t206   \t149.33 \t5.70097\t128\t160\n",
            "26 \t180   \t150.633\t5.65086\t133\t161\n",
            "27 \t190   \t151.763\t5.43145\t135\t161\n",
            "28 \t207   \t152.48 \t5.23414\t136\t163\n",
            "29 \t174   \t153.08 \t5.58632\t135\t163\n",
            "30 \t202   \t153.563\t5.47412\t138\t162\n",
            "31 \t201   \t153.68 \t6.30801\t128\t162\n",
            "32 \t205   \t154.443\t5.57675\t138\t165\n",
            "33 \t185   \t155.27 \t5.60985\t138\t165\n",
            "34 \t213   \t155.563\t5.79534\t138\t165\n",
            "35 \t175   \t155.97 \t6.28563\t136\t165\n",
            "36 \t186   \t157.427\t5.69777\t139\t167\n",
            "37 \t199   \t157.933\t5.93764\t137\t167\n",
            "38 \t206   \t157.83 \t6.03996\t138\t167\n",
            "39 \t193   \t158.63 \t6.28488\t137\t167\n",
            "40 \t187   \t159.347\t5.91437\t138\t168\n",
            "41 \t201   \t159.423\t6.299  \t142\t168\n",
            "42 \t197   \t159.9  \t6.52201\t136\t170\n",
            "43 \t186   \t161.003\t5.80603\t137\t169\n",
            "44 \t202   \t160.443\t6.66884\t129\t169\n",
            "45 \t192   \t161.203\t6.27922\t143\t170\n",
            "46 \t186   \t161.603\t6.38221\t143\t171\n",
            "47 \t201   \t162.083\t6.20132\t143\t171\n",
            "48 \t194   \t161.577\t6.81255\t142\t171\n",
            "49 \t191   \t162.663\t6.98832\t129\t171\n",
            "50 \t195   \t163.49 \t6.55107\t136\t171\n",
            "51 \t207   \t163.713\t6.97313\t138\t171\n",
            "52 \t195   \t164.077\t6.941  \t143\t171\n",
            "53 \t212   \t164.087\t6.71261\t142\t171\n",
            "54 \t205   \t164.627\t7.13914\t137\t172\n",
            "55 \t220   \t164.583\t7.38397\t139\t173\n",
            "56 \t185   \t166.077\t6.5993 \t142\t173\n",
            "57 \t188   \t166.087\t6.93007\t145\t174\n",
            "58 \t184   \t167.23 \t6.35325\t144\t173\n",
            "59 \t216   \t167.063\t6.46679\t148\t173\n",
            "60 \t205   \t166.867\t7.12616\t145\t173\n",
            "61 \t192   \t166.86 \t7.21113\t144\t173\n",
            "62 \t185   \t167.433\t7.19529\t144\t174\n",
            "63 \t200   \t167.053\t7.29135\t146\t174\n",
            "64 \t189   \t167.79 \t7.10206\t146\t174\n",
            "65 \t180   \t168.1  \t6.77913\t147\t174\n",
            "66 \t215   \t166.647\t7.75297\t143\t174\n",
            "67 \t192   \t167.92 \t7.23097\t147\t174\n",
            "68 \t180   \t168.453\t7.34991\t141\t174\n",
            "69 \t204   \t168.88 \t7.08747\t144\t174\n",
            "70 \t215   \t168.293\t7.66903\t136\t174\n",
            "71 \t187   \t169.377\t7.15226\t146\t174\n",
            "72 \t185   \t169.333\t7.23387\t146\t174\n",
            "73 \t212   \t168.277\t7.71234\t143\t174\n",
            "74 \t191   \t168.643\t7.37718\t145\t174\n",
            "75 \t185   \t168.93 \t7.39178\t143\t174\n",
            "76 \t205   \t169.48 \t7.25968\t148\t174\n",
            "77 \t184   \t169.267\t7.02488\t149\t174\n",
            "78 \t196   \t169.56 \t6.84103\t150\t174\n",
            "79 \t211   \t168.517\t7.6151 \t146\t174\n",
            "80 \t189   \t169.147\t7.21793\t143\t174\n",
            "81 \t188   \t168.877\t7.69815\t145\t174\n",
            "82 \t183   \t168.903\t7.55826\t142\t174\n",
            "83 \t208   \t169.07 \t7.04404\t147\t174\n",
            "84 \t196   \t168.483\t7.70301\t137\t174\n",
            "85 \t188   \t169.783\t6.53068\t150\t174\n",
            "86 \t196   \t168.617\t7.18863\t150\t174\n",
            "87 \t203   \t169.26 \t7.36562\t145\t174\n",
            "88 \t208   \t168.677\t7.84424\t144\t174\n",
            "89 \t178   \t168.777\t7.37112\t148\t174\n",
            "90 \t198   \t169.493\t7.36093\t148\t174\n",
            "91 \t204   \t169.013\t7.58111\t144\t174\n",
            "92 \t216   \t168.813\t7.10623\t147\t174\n",
            "93 \t195   \t169.287\t7.24278\t144\t174\n",
            "94 \t185   \t169.11 \t7.24922\t148\t174\n",
            "95 \t179   \t169    \t7.68505\t145\t174\n",
            "96 \t186   \t169.417\t7.63521\t145\t174\n",
            "97 \t194   \t169.423\t6.93956\t149\t174\n",
            "98 \t204   \t169.343\t7.2013 \t146\t174\n",
            "99 \t196   \t169.473\t6.9548 \t147\t175\n",
            "100\t194   \t168.73 \t7.74707\t147\t174\n",
            "[[[ 72.   0.  39.  94.   8.  39.   0.   0.   0.  94.   0.   0.  68.  73.\n",
            "     0.  78.]\n",
            "  [  0.   0.  96.   0.   0.   0.   0.   0.  11.   0.   0.   0.  76.   0.\n",
            "    61.   0.]\n",
            "  [  0.   0.   0.  21.  37.   0.  59.   0.   0.   0.  10.  20.  84.  56.\n",
            "     0.   0.]\n",
            "  [  5.  40.   0.  10.  33.  96.   0.  86.   0.  99.   0.  19.   0.   0.\n",
            "     0.   0.]\n",
            "  [  0.  17.   5.  90.  44.   0.   9.  27.   0.  55.   0.  35.  60.   0.\n",
            "     0.   0.]]\n",
            "\n",
            " [[ 85.   0.  45.   0.  43.  58.  82.  25.   0.  34.  24.   0.  27.  53.\n",
            "     0.   0.]\n",
            "  [ 88.  18.  47.  15.   0.  22.  46.   4.  41.   0.   0.   0.  74.  81.\n",
            "     0.   0.]\n",
            "  [ 65.   0.   0.  97.  45.   0.   0.  98.   0.   0.   0.   0.   0.  85.\n",
            "     0.   6.]\n",
            "  [  0.   0.   2.   0.   0.   0.   0.   0.  32.  38.   0.  95.   0.  40.\n",
            "     0.  70.]\n",
            "  [  0.  29.   0.   0.   0.  42.  14.   0.   7.   0.  26.   0.   0.  54.\n",
            "    93.   0.]]\n",
            "\n",
            " [[  0.  16.   0.   0.   0.   0.  51.  83.   0.   0.   0. 101.  93.   0.\n",
            "     0.  71.]\n",
            "  [  6.   0.  28.   0.   0.  67.   0.   0.   0.   0.  31.  92.  77.  64.\n",
            "     2.   0.]\n",
            "  [  0.  13.   0.  89.  23.  91.  52.   0.   0.   0.   0.   0.  66.  32.\n",
            "     0.  50.]\n",
            "  [  0.   0.   1.   3.   0.   0.   0.   0.  90.  46.   0.  75.   0.  79.\n",
            "     0.   0.]\n",
            "  [ 12.   0.   0.  30.  36.   0.   0.   0.  57.  87.   0. 100.  43.  62.\n",
            "     0.   0.]]\n",
            "\n",
            " [[  0.  23.   0.  29.   0.   0.   0.   0.   0.   0.   0.  94.   0.   0.\n",
            "     0.   0.]\n",
            "  [  0.  99.   0.  82.   0.   1.   0.   0.   0.   0.  25.   0.   0.   0.\n",
            "     0.   0.]\n",
            "  [  6.   0.  20.  83.   0.   0.  36.   0.   0.   0.   0.   0.  21.   0.\n",
            "    42.  69.]\n",
            "  [ 24.   0.  30.   0.   0.  17.   0.  14.   0.  95.   0.   0.   0.  41.\n",
            "    49.   0.]\n",
            "  [  0.   0.   0.   0.   0.   0.   0.   0.   0.   0.  91.  92.   0.   0.\n",
            "     0.  39.]]\n",
            "\n",
            " [[  0. 101.   0.   0.   0.   0.  93.   0.   0.  12.   4.  26.   0.  86.\n",
            "    31.   0.]\n",
            "  [  0.  38.   0. 100.   0.  97.   0.  34.   0.  44.   0.   0.   0.   0.\n",
            "     7.  35.]\n",
            "  [  0.   5.  33.   0.  15.  89.  11.   0.   0.  22.  13.  16.   0.   0.\n",
            "    18.   0.]\n",
            "  [  0.  47.   0.   0.   0.   8.   0.   0.   3.   0.  28.  98.   0.   0.\n",
            "     0.   0.]\n",
            "  [  0.  19.   9.  87.  88.   0.   0.   0.   0.  37.   0.   0.  63.  80.\n",
            "    48.  40.]]]\n"
          ]
        }
      ]
    }
  ]
}